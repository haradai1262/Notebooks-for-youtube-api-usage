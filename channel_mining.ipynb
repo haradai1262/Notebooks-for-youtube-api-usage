{
 "cells": [
  {
   "cell_type": "markdown",
   "metadata": {},
   "source": [
    "# Youtube Api V3 usage for channel mining\n",
    "\n",
    "# Install \n",
    "### pip install --upgrade google-api-python-client\n",
    "### pip install --upgrade google-auth google-auth-oauthlib google-auth-httplib2\n",
    "### pip install --upgrade oauth2client"
   ]
  },
  {
   "cell_type": "code",
   "execution_count": 1,
   "metadata": {},
   "outputs": [],
   "source": [
    "import sys, os\n",
    "from pprint import pprint\n",
    "\n",
    "from apiclient.discovery import build\n",
    "from apiclient.errors import HttpError\n",
    "from oauth2client.tools import argparser\n",
    "\n",
    "import devkey\n",
    "DEVELOPER_KEY = devkey.api1\n",
    "\n",
    "YOUTUBE_API_SERVICE_NAME = \"youtube\"\n",
    "YOUTUBE_API_VERSION = \"v3\"\n",
    "\n",
    "CHANNEL_ID = 'UCMsuwHzQPFMDtHaoR7_HDxg' # channel id of japanese popular (and cute) youtuber \"Yukirinu\""
   ]
  },
  {
   "cell_type": "code",
   "execution_count": 2,
   "metadata": {},
   "outputs": [],
   "source": [
    "# build\n",
    "YT = build(YOUTUBE_API_SERVICE_NAME, YOUTUBE_API_VERSION, developerKey=DEVELOPER_KEY)\n",
    "# search\n",
    "feed = YT.search().list( channelId=CHANNEL_ID,\n",
    "                        maxResults=50, order='date',\n",
    "                        type='video',\n",
    "                        part='id,snippet' ).execute()"
   ]
  },
  {
   "cell_type": "code",
   "execution_count": 3,
   "metadata": {},
   "outputs": [
    {
     "name": "stdout",
     "output_type": "stream",
     "text": [
      "{'etag': '\"DuHzAJ-eQIiCIp7p4ldoVcVAOeY/7TPH7vT7LS3k4oABv7l96HIAFvU\"',\n",
      " 'id': {'kind': 'youtube#video', 'videoId': 'BYfxhfLIKzA'},\n",
      " 'kind': 'youtube#searchResult',\n",
      " 'snippet': {'channelId': 'UCMsuwHzQPFMDtHaoR7_HDxg',\n",
      "             'channelTitle': 'ゆきりぬ',\n",
      "             'description': '高校・大学時代に全く化粧をしなかったので、YouTubeを始めて２年間、メイクには悩みに悩んできました。。 '\n",
      "                            '自分で調べたりメイクしてもらう機会...',\n",
      "             'liveBroadcastContent': 'none',\n",
      "             'publishedAt': '2018-06-23T13:00:58.000Z',\n",
      "             'thumbnails': {'default': {'height': 90,\n",
      "                                        'url': 'https://i.ytimg.com/vi/BYfxhfLIKzA/default.jpg',\n",
      "                                        'width': 120},\n",
      "                            'high': {'height': 360,\n",
      "                                     'url': 'https://i.ytimg.com/vi/BYfxhfLIKzA/hqdefault.jpg',\n",
      "                                     'width': 480},\n",
      "                            'medium': {'height': 180,\n",
      "                                       'url': 'https://i.ytimg.com/vi/BYfxhfLIKzA/mqdefault.jpg',\n",
      "                                       'width': 320}},\n",
      "             'title': 'ゆきりぬ毎日メイク〜芋すぎた理系女子がYouTube2年で辿り着いたメイク法〜 Everyday '\n",
      "                      'Makeup'}}\n"
     ]
    }
   ],
   "source": [
    "# check item\n",
    "pprint( feed.get('items')[0] )"
   ]
  },
  {
   "cell_type": "code",
   "execution_count": 4,
   "metadata": {},
   "outputs": [
    {
     "name": "stdout",
     "output_type": "stream",
     "text": [
      "0 BYfxhfLIKzA ゆきりぬ毎日メイク〜芋すぎた理系女子がYouTube2年で辿り着いたメイク法〜 Everyday Makeup\n",
      "1 dVWPU1Mc1UU コーラにお酒をこっそり盛られました。。。\n",
      "2 Oy6NmFo8paY 【ご報告】アメリカへ行くことになりました。\n",
      "3 nXQwpAlDqsU 女友達に性格悪いってバラされました。\n",
      "4 AVcBYwwfJGM 天才的なお絵描きします。\n",
      "5 ekEB2knDTl4 今日からコーラが透明になったらしい\n",
      "6 eM8KpFVDEc0 GUのかわいい夏パジャマたくさん買って全部着替えてみた！\n",
      "7 b8Lg2mwm7aQ ひとりでキャンプをする女。\n",
      "8 yTOtlKowOmg くちびるをプルンプルンにします\n",
      "9 yy9mZUgMVkM プレゼント全部開封します。\n",
      "10 xc-4hKcAydk 猫背を直したい。\n",
      "11 niZOAHeCD3M 運動不足なので汗だくになってきます。\n",
      "12 apOhJxikVc4 これがわたしの演技力……キズナアイ面接。\n",
      "13 CFxM3Lks2x0 【ご報告】この度、ゆきりぬチャンネルは・・・\n",
      "14 xr-F19LMu_c 酒豪の女友達をピザチーズゲームでドキドキさせてみたwwww\n",
      "15 aj4Z2ECosk8 やる気が出ない時に見て！モチベーションを上げる方法。\n",
      "16 NjJ1uGz96eg 今年いちばん怒ってます。\n",
      "17 XAGtHZFXz6k 【ドッキリ】母校のテニサーのピザパに配達員として潜入したら気付かれるのか？\n",
      "18 D2BjsTXHQkE てんちむちゃんの家にお泊まりしてみたらとても刺激的でした。\n",
      "19 GPIZx6ZUTVc たくさんの東大生が教える\"一番オススメ\"な参考書ランキング！【東大五月祭】\n",
      "20 qiu0kcL0mLA 念願のGo Pro開封してお風呂で遊んでみた結果、、、\n",
      "21 c7LmXLWJ_p4 一緒に住む人が増えます。\n",
      "22 LF7PnvYNoPs 私服がダサすぎる件について\n",
      "23 _X0JK4KHsx4 TWICEへの愛をただひたすらに語る女\n",
      "24 1AmQy8dcECw A5ランクサーロインステーキを焼いて食べる\n",
      "25 rGTTLpMS_Js これだけ毎日コーラ飲んでたら想像だけで作れる説\n",
      "26 MdVZL-wtuWc 子供の名前を考えます。\n",
      "27 X_OvTRJ31JQ 手術しました。\n",
      "28 kuYiN_jKzN4 ゆきりぬ、本になります。\n",
      "29 LCxqudaQopk ひょっこりはんをやってみた。\n",
      "30 fFtvmPODMBI 皆さんに聞きたいことがあります。\n",
      "31 PtTTMXseUvg ひとりでピクニックしてみた。\n",
      "32 VAYe20msHHo わざとやってるでしょ？について。\n",
      "33 -mCNU9Gd8EE もしも海外ブランドのモデルがゆきりぬだったらドッキリ！！！\n",
      "34 RnWb55338Dw 【黒歴史】理系のイモ女が大変身した方法を全て話します。\n",
      "35 DU5Q9xfvVwE ６０万人ありがとう！と最近の悩み。\n",
      "36 tQsCmepdFGc ショートだけどバッサリ切ります。\n",
      "37 9IAAnvud3OM 帰国後にいきなりいきなりステーキを食べる女。\n",
      "38 03ebpeKEGmI ひとりで台湾旅行したらYouTubeやめたくなりました\n",
      "39 Ta5CLSebSVM 私の恋愛は終わりました。。。\n",
      "40 j05TlO2nY_A モテる男性について。\n",
      "41 yp_BE1fKrek 旅に出ます。\n",
      "42 qJbusjqAh3Y 泥酔した友達と斎藤さんやったら闇が深すぎたwwwwwww\n",
      "43 3GdXpzkSAqE これが…秘密かぁ…\n",
      "44 dyo7Jr8VMK0 ハンバーガーを作って食べる！！！！\n",
      "45 RL1l81KbRoM 結婚、おめでとう。\n",
      "46 S0W_mpv2Ixc 世界一の朝ごはんを食べに行く。\n",
      "47 sfczn7nqRgM 華金の歌舞伎町に呼び出されました\n",
      "48 UDag-henDMU UUUMからとんでもなく大きな箱が届いたので開けてみます。。。\n",
      "49 kBmrTz4DdYI 【激安】GU２万円分を超大量購入して春コーデしてみた！\n"
     ]
    }
   ],
   "source": [
    "for i, video in enumerate( feed.get('items') ):\n",
    "    vid, title = video['id']['videoId'], video['snippet']['title']\n",
    "    print( i, vid, title )"
   ]
  },
  {
   "cell_type": "code",
   "execution_count": null,
   "metadata": {},
   "outputs": [],
   "source": []
  }
 ],
 "metadata": {
  "kernelspec": {
   "display_name": "Python 3",
   "language": "python",
   "name": "python3"
  },
  "language_info": {
   "codemirror_mode": {
    "name": "ipython",
    "version": 3
   },
   "file_extension": ".py",
   "mimetype": "text/x-python",
   "name": "python",
   "nbconvert_exporter": "python",
   "pygments_lexer": "ipython3",
   "version": "3.6.4"
  }
 },
 "nbformat": 4,
 "nbformat_minor": 2
}
